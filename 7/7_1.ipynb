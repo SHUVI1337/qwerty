{
 "cells": [
  {
   "cell_type": "code",
   "execution_count": null,
   "id": "45dc7a0e",
   "metadata": {},
   "outputs": [],
   "source": [
    "def main(idx,sm):\n",
    "    i=idx\n",
    "    while i<len(bn):\n",
    "        s=sm+bn[i]\n",
    "        global summ\n",
    "        if s>summ:\n",
    "            summ=s\n",
    "        if i+2<len(bn):\n",
    "            main(i+2,s)\n",
    "        i+=1\n",
    "    if idx==0:\n",
    "        return summ\n",
    "\n",
    "if __name__ == \"__main__\":\n",
    "    bn = list(map(int, input(\"Деньги в банках через пробел: \").split()))\n",
    "    summ = 0\n",
    "    print(main(0, 0))\n"
   ]
  }
 ],
 "metadata": {
  "kernelspec": {
   "display_name": "Python 3 (ipykernel)",
   "language": "python",
   "name": "python3"
  },
  "language_info": {
   "codemirror_mode": {
    "name": "ipython",
    "version": 3
   },
   "file_extension": ".py",
   "mimetype": "text/x-python",
   "name": "python",
   "nbconvert_exporter": "python",
   "pygments_lexer": "ipython3",
   "version": "3.9.13"
  }
 },
 "nbformat": 4,
 "nbformat_minor": 5
}
