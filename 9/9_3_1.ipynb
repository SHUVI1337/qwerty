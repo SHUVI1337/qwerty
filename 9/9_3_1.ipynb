{
 "cells": [
  {
   "cell_type": "code",
   "execution_count": null,
   "id": "48932286",
   "metadata": {},
   "outputs": [],
   "source": [
    "def main():\n",
    "    def set_pins(idx, s, pin, d, lst):\n",
    "        if idx == 0:\n",
    "            s = ''\n",
    "        v = d[pin[idx]]\n",
    "        for i in v:\n",
    "            if idx + 1 < len(pin):\n",
    "                set_pins(idx + 1, s + i, pin, d, lst)\n",
    "            else:\n",
    "                lst.append(s + i)\n",
    "\n",
    "    def get_pins(pin):\n",
    "        a = [['0'] * 3 for i in range(4)]\n",
    "        for i in range(9):\n",
    "            a[i // 3][i % 3] = str(i + 1)\n",
    "\n",
    "        d = {}\n",
    "        dx = [0, 0, 1, 0, -1]\n",
    "        dy = [0, -1, 0, 1, 0]\n",
    "        for i in range(1, 10):\n",
    "            lst = []\n",
    "            for j in range(5):\n",
    "                x = (i - 1) % 3 + dx[j]\n",
    "                y = (i - 1) // 3 + dy[j]\n",
    "                if x >= 0 and x < 3 and y >= 0 and y < 4:\n",
    "                    if not (x == 0 and y == 3 or x == 2 and y == 3):\n",
    "                        lst.append(a[y][x])\n",
    "            d[a[(i - 1) // 3][(i - 1) % 3]] = lst\n",
    "\n",
    "        lst = []\n",
    "        set_pins(0, '', pin, d, lst)\n",
    "        return lst\n",
    "\n",
    "    pin = input('PIN: ')\n",
    "    print(get_pins(pin))\n",
    "if __name__ == \"__main__\":\n",
    "    main()"
   ]
  }
 ],
 "metadata": {
  "kernelspec": {
   "display_name": "Python 3 (ipykernel)",
   "language": "python",
   "name": "python3"
  },
  "language_info": {
   "codemirror_mode": {
    "name": "ipython",
    "version": 3
   },
   "file_extension": ".py",
   "mimetype": "text/x-python",
   "name": "python",
   "nbconvert_exporter": "python",
   "pygments_lexer": "ipython3",
   "version": "3.9.13"
  }
 },
 "nbformat": 4,
 "nbformat_minor": 5
}
