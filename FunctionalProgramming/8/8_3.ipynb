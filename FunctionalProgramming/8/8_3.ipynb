{
 "cells": [
  {
   "cell_type": "code",
   "execution_count": null,
   "id": "7f7e4c58",
   "metadata": {},
   "outputs": [],
   "source": [
    "def main():\n",
    "    def otv(a, b):\n",
    "        if a == b:\n",
    "            return 1\n",
    "        if a==0:\n",
    "            return 0\n",
    "        if b==0:\n",
    "            return 0\n",
    "        else:\n",
    "            return b * otv(a - 1, b)+otv(a - 1, b - 1)\n",
    "    print('Введите колличество конфет и мешков через запятую:')\n",
    "    a = input()\n",
    "    a = str(a)\n",
    "    a = a.replace(\" \", \"\")\n",
    "    a = a.split(\",\")\n",
    "    k,m= int(a[0]),int(a[1])\n",
    "    print(otv(k, m))\n",
    "if __name__ == \"__main__\":\n",
    "    main()"
   ]
  }
 ],
 "metadata": {
  "kernelspec": {
   "display_name": "Python 3 (ipykernel)",
   "language": "python",
   "name": "python3"
  },
  "language_info": {
   "codemirror_mode": {
    "name": "ipython",
    "version": 3
   },
   "file_extension": ".py",
   "mimetype": "text/x-python",
   "name": "python",
   "nbconvert_exporter": "python",
   "pygments_lexer": "ipython3",
   "version": "3.9.13"
  }
 },
 "nbformat": 4,
 "nbformat_minor": 5
}
