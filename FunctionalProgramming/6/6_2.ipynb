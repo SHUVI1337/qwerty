{
 "cells": [
  {
   "cell_type": "code",
   "execution_count": null,
   "id": "fa7c43d1",
   "metadata": {},
   "outputs": [],
   "source": [
    "def main(idx,cur,use,res):\n",
    "    for i in range(len(l)):\n",
    "        if use[i]==0:\n",
    "            use[i]=1\n",
    "            cur[idx]=l[i]\n",
    "            if idx+1<len(l):\n",
    "                main(idx+1,cur,use,res)\n",
    "            else:\n",
    "                cp=cur.copy()\n",
    "                if not cp in res:\n",
    "                    res.append(cp)\n",
    "            use[i]=0\n",
    "            \n",
    "    if idx==0:\n",
    "        return res\n",
    "if __name__ == \"__main__\":\n",
    "    l = list(map(int, input(\"Числа через пробел: \").split()))  # список значений\n",
    "    print(main(0, [0] * len(l), [0] * len(l), []))\n"
   ]
  }
 ],
 "metadata": {
  "kernelspec": {
   "display_name": "Python 3 (ipykernel)",
   "language": "python",
   "name": "python3"
  },
  "language_info": {
   "codemirror_mode": {
    "name": "ipython",
    "version": 3
   },
   "file_extension": ".py",
   "mimetype": "text/x-python",
   "name": "python",
   "nbconvert_exporter": "python",
   "pygments_lexer": "ipython3",
   "version": "3.9.13"
  }
 },
 "nbformat": 4,
 "nbformat_minor": 5
}
