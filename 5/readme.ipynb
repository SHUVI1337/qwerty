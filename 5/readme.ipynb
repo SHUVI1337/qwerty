{
 "cells": [
  {
   "cell_type": "code",
   "execution_count": null,
   "id": "1fb8b549",
   "metadata": {},
   "outputs": [],
   "source": [
    "Первое задание:\n",
    "1. С клавиатуры поступает строка. Необходимо вывести самую\n",
    "длинную подстроку без повторных символов."
   ]
  },
  {
   "cell_type": "code",
   "execution_count": null,
   "id": "918a7ed3",
   "metadata": {},
   "outputs": [],
   "source": [
    "def main():\n",
    "    l=''\n",
    "    s=''\n",
    "    f=input()\n",
    "    b=1\n",
    "    m=0\n",
    "    k=''\n",
    "    n=''\n",
    "    for j in range (len(f)):\n",
    "        a=f\n",
    "        a=a[j:]\n",
    "        for i in range(len(a)):\n",
    "            if a[i] in s:\n",
    "                m=max(m,len(s))\n",
    "                if len(a)>len(l):\n",
    "                    l=s\n",
    "                s=''\n",
    "            s = s + str(a[i])\n",
    "        if len(l)>len(k):\n",
    "            k=l\n",
    "    print(k)\n",
    "if __name__=='__main__':\n",
    "    main()"
   ]
  },
  {
   "cell_type": "code",
   "execution_count": null,
   "id": "602777a4",
   "metadata": {},
   "outputs": [],
   "source": [
    "In:qweasdfdqw\n",
    "Out:qweasd"
   ]
  },
  {
   "cell_type": "code",
   "execution_count": null,
   "id": "60a946cf",
   "metadata": {},
   "outputs": [],
   "source": [
    "2. С клавиатуры поступает строка. Необходимо вывести строку, где\n",
    "порядок слов в противоположном направлении. Первое слово с\n",
    "заглавной буквы, остальные с маленькой. МЕЖДУ словами только\n",
    "ОДИН пробел."
   ]
  },
  {
   "cell_type": "code",
   "execution_count": null,
   "id": "5ea0d94f",
   "metadata": {},
   "outputs": [],
   "source": [
    "def main():\n",
    "    a=input()\n",
    "    a=a.lower()\n",
    "    a=a.lstrip()\n",
    "    a = a.rstrip()\n",
    "    a=a.replace('    ', ' ')\n",
    "    a=a.replace('   ',' ')\n",
    "    a=a.replace('  ', ' ')\n",
    "    a=a+' '\n",
    "    s=''\n",
    "    w=''\n",
    "    for i in a:\n",
    "        if i!=' ':\n",
    "            w=w+i\n",
    "        else:\n",
    "            s=w+' '+s\n",
    "            w=''\n",
    "    if s=='':\n",
    "        print(w.capitalize())\n",
    "    s=s.capitalize()\n",
    "    print(s)\n",
    "if __name__=='__main__':\n",
    "    main()"
   ]
  },
  {
   "cell_type": "code",
   "execution_count": null,
   "id": "c703c849",
   "metadata": {},
   "outputs": [],
   "source": [
    "In:пРивет мИР\n",
    "Out:Мир привет"
   ]
  },
  {
   "cell_type": "code",
   "execution_count": null,
   "id": "9dea6a8b",
   "metadata": {},
   "outputs": [],
   "source": [
    "3. С клавиатуры поступает строка, которая имеет только символы: '(', ')', '{', '}', '[' и ‘]’.\n",
    "Необходимо проверить правильно ли сформированы скобки. Если ВСЕ скобки сформированы правильно, то вывести True,\n",
    "если нет, то вывести самую длинную правильно сформированную подстроку скобок, если такой подстроки нету,\n",
    "то вывести False. (Сначала лучше сделать True и False, а потом работать с подстроками)."
   ]
  },
  {
   "cell_type": "code",
   "execution_count": null,
   "id": "488181cb",
   "metadata": {},
   "outputs": [],
   "source": [
    "def main():\n",
    "    s=input()\n",
    "    p1=0\n",
    "    p2=0\n",
    "    p3=0\n",
    "    a1=s.replace('[','')\n",
    "    a1=a1.replace(']','')\n",
    "    a1=a1.replace('{','')\n",
    "    a1=a1.replace('}','')\n",
    "    while '()' in a1:\n",
    "        a1=a1.replace('()','')\n",
    "    if len(a1)==0:\n",
    "        p1=1\n",
    "    a2=s.replace('(','')\n",
    "    a2=a2.replace(')','')\n",
    "    a2=a2.replace('{','')\n",
    "    a2=a2.replace('}','')\n",
    "    while '[]' in a2:\n",
    "        a2=a2.replace('[]','')\n",
    "    if len(a2)==0:\n",
    "        p2=1\n",
    "    a3=s.replace('(','')\n",
    "    a3=a3.replace(')','')\n",
    "    a3=a3.replace('[','')\n",
    "    a3=a3.replace(']','')\n",
    "    while '{}' in a3:\n",
    "        a3=a3.replace('{}','')\n",
    "    if len(a3)==0:\n",
    "           p3=1\n",
    "    if p1==1 and p2==1 and p3==1:\n",
    "        print('True')\n",
    "    else:\n",
    "        print('False')\n",
    "if __name__=='__main__':\n",
    "    main()"
   ]
  },
  {
   "cell_type": "code",
   "execution_count": null,
   "id": "62b0ea7a",
   "metadata": {},
   "outputs": [],
   "source": [
    "In:()[]{}\n",
    "Out:True"
   ]
  }
 ],
 "metadata": {
  "kernelspec": {
   "display_name": "Python 3 (ipykernel)",
   "language": "python",
   "name": "python3"
  },
  "language_info": {
   "codemirror_mode": {
    "name": "ipython",
    "version": 3
   },
   "file_extension": ".py",
   "mimetype": "text/x-python",
   "name": "python",
   "nbconvert_exporter": "python",
   "pygments_lexer": "ipython3",
   "version": "3.9.13"
  }
 },
 "nbformat": 4,
 "nbformat_minor": 5
}
