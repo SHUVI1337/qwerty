{
 "cells": [
  {
   "cell_type": "code",
   "execution_count": null,
   "id": "2261ff25",
   "metadata": {},
   "outputs": [],
   "source": [
    "def main():\n",
    "    def get_pins(a):\n",
    "        a = str(a)\n",
    "        var = {}\n",
    "        var['1'] = [\"1\", \"2\", \"4\"]\n",
    "        var['2'] = [\"1\", \"2\", \"3\", \"5\"]\n",
    "        var['3'] = [\"2\", \"3\", \"6\"]\n",
    "        var['4'] = [\"1\", \"4\", \"5\", \"7\"]\n",
    "        var['5'] = [\"2\", \"4\", \"5\", \"6\", \"8\"]\n",
    "        var['6'] = [\"3\", \"5\", \"6\", \"9\"]\n",
    "        var['7'] = [\"4\", \"7\", \"8\"]\n",
    "        var['8'] = [\"5\", \"7\", \"8\", \"9\", \"0\"]\n",
    "        var['9'] = [\"6\", \"8\", \"9\"]\n",
    "        kod = [var[a[0]]]\n",
    "\n",
    "        for i in range(1, len(a)):\n",
    "            kod.append([])\n",
    "            for j in range(len(kod[i-1])):\n",
    "                for k in range(len(var[a[i]])):\n",
    "                    kod[i].append(kod[i-1][j] + var[a[i]][k])\n",
    "        kod = kod[-1]\n",
    "        return kod\n",
    "    print('Введите предполагаемый код без разделительных знаков:')\n",
    "    a = input()\n",
    "    a = str(a)\n",
    "    print(get_pins(a))\n",
    "if __name__ == \"__main__\":\n",
    "    main()"
   ]
  }
 ],
 "metadata": {
  "kernelspec": {
   "display_name": "Python 3 (ipykernel)",
   "language": "python",
   "name": "python3"
  },
  "language_info": {
   "codemirror_mode": {
    "name": "ipython",
    "version": 3
   },
   "file_extension": ".py",
   "mimetype": "text/x-python",
   "name": "python",
   "nbconvert_exporter": "python",
   "pygments_lexer": "ipython3",
   "version": "3.9.13"
  }
 },
 "nbformat": 4,
 "nbformat_minor": 5
}
