{
 "cells": [
  {
   "cell_type": "code",
   "execution_count": null,
   "id": "bb880284",
   "metadata": {},
   "outputs": [],
   "source": [
    "def main():\n",
    "    def perevod(rim):\n",
    "        print(\"Из римского %s\" % (rim))\n",
    "        arab = 0\n",
    "        znacheniya = {\"I\": 1, \"V\": 5, \"X\": 10, \"L\": 50, \"C\": 100, \"D\": 500, \"M\": 1000, \"IV\": 4, \"IX\": 9, \"XL\": 40, \"XC\": 90,\n",
    "                  \"CD\": 400, \"CM\": 900}\n",
    "        a = 1\n",
    "        while a <= len(rim):\n",
    "            if a != len(rim):\n",
    "                s = rim[a - 1] + rim[a]\n",
    "            else:\n",
    "                s = rim[a - 1]\n",
    "            if s in znacheniya.keys():\n",
    "                arab += znacheniya[s]\n",
    "                a += 2\n",
    "            else:\n",
    "                s = rim[a - 1]\n",
    "                arab += znacheniya[s]\n",
    "                a += 1\n",
    "        return \"Получили арабское %i\" % arab\n",
    "    print(perevod(str(input())))\n",
    "if __name__ == \"__main__\":\n",
    "    print('Введите римское число ')\n",
    "    main()"
   ]
  }
 ],
 "metadata": {
  "kernelspec": {
   "display_name": "Python 3 (ipykernel)",
   "language": "python",
   "name": "python3"
  },
  "language_info": {
   "codemirror_mode": {
    "name": "ipython",
    "version": 3
   },
   "file_extension": ".py",
   "mimetype": "text/x-python",
   "name": "python",
   "nbconvert_exporter": "python",
   "pygments_lexer": "ipython3",
   "version": "3.9.13"
  }
 },
 "nbformat": 4,
 "nbformat_minor": 5
}
