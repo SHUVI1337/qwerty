{
 "cells": [
  {
   "cell_type": "code",
   "execution_count": null,
   "id": "90edf7ac",
   "metadata": {},
   "outputs": [],
   "source": [
    "def main():\n",
    "    s=input()\n",
    "    p1=0\n",
    "    p2=0\n",
    "    p3=0\n",
    "    a1=s.replace('[','')\n",
    "    a1=a1.replace(']','')\n",
    "    a1=a1.replace('{','')\n",
    "    a1=a1.replace('}','')\n",
    "    while '()' in a1:\n",
    "        a1=a1.replace('()','')\n",
    "    if len(a1)==0:\n",
    "        p1=1\n",
    "    else:\n",
    "        print('()','=','False')\n",
    "    a2=s.replace('(','')\n",
    "    a2=a2.replace(')','')\n",
    "    a2=a2.replace('{','')\n",
    "    a2=a2.replace('}','')\n",
    "    while '[]' in a2:\n",
    "        a2=a2.replace('[]','')\n",
    "    if len(a2)==0:\n",
    "        p2=1\n",
    "    else:\n",
    "        print('[]','=','False')\n",
    "    a3=s.replace('(','')\n",
    "    a3=a3.replace(')','')\n",
    "    a3=a3.replace('[','')\n",
    "    a3=a3.replace(']','')\n",
    "    while '{}' in a3:\n",
    "        a3=a3.replace('{}','')\n",
    "    if len(a3)==0:\n",
    "           p3=1\n",
    "    else:\n",
    "        print('{}','=','False')\n",
    "    if p1==1 and p2==1 and p3==1:\n",
    "        print('True')\n",
    "if __name__=='__main__':\n",
    "    main()"
   ]
  }
 ],
 "metadata": {
  "kernelspec": {
   "display_name": "Python 3 (ipykernel)",
   "language": "python",
   "name": "python3"
  },
  "language_info": {
   "codemirror_mode": {
    "name": "ipython",
    "version": 3
   },
   "file_extension": ".py",
   "mimetype": "text/x-python",
   "name": "python",
   "nbconvert_exporter": "python",
   "pygments_lexer": "ipython3",
   "version": "3.9.13"
  }
 },
 "nbformat": 4,
 "nbformat_minor": 5
}
