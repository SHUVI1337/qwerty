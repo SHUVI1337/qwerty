{
 "cells": [
  {
   "cell_type": "code",
   "execution_count": null,
   "id": "326fbbc9",
   "metadata": {},
   "outputs": [],
   "source": [
    "def main():\n",
    "    def spisok(a):\n",
    "        s = []\n",
    "        for i in range(a):\n",
    "            s.append([])\n",
    "            print('Имя ')\n",
    "            s[i].append(str(input()))\n",
    "            print('Фамилия ')\n",
    "            s[i][0] += \" \" + str(input())\n",
    "            print('Почтовый индекс ')\n",
    "            s[i].append(str(input()))\n",
    "        return s\n",
    "    def santa_users(spisok):\n",
    "        slovar = dict()\n",
    "        for i in spisok:\n",
    "            if i[1] != \"\":\n",
    "                slovar[i[0]] = i[1]\n",
    "            else:\n",
    "                slovar[i[0]] = None\n",
    "        return slovar\n",
    "    list = spisok(int(input(\"Колличество пользователей \")))\n",
    "    otv = santa_users(list)\n",
    "    print(otv)\n",
    "if __name__ == \"__main__\":\n",
    "    main()"
   ]
  }
 ],
 "metadata": {
  "kernelspec": {
   "display_name": "Python 3 (ipykernel)",
   "language": "python",
   "name": "python3"
  },
  "language_info": {
   "codemirror_mode": {
    "name": "ipython",
    "version": 3
   },
   "file_extension": ".py",
   "mimetype": "text/x-python",
   "name": "python",
   "nbconvert_exporter": "python",
   "pygments_lexer": "ipython3",
   "version": "3.9.13"
  }
 },
 "nbformat": 4,
 "nbformat_minor": 5
}
