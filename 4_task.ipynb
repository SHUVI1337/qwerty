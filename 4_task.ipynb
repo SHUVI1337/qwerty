{
 "cells": [
  {
   "cell_type": "code",
   "execution_count": 5,
   "id": "099eaea3",
   "metadata": {},
   "outputs": [
    {
     "name": "stdout",
     "output_type": "stream",
     "text": [
      "13\n"
     ]
    }
   ],
   "source": [
    "class Server:\n",
    "    buffer = []\n",
    "    def __init__(self,ip):\n",
    "        self.ip=ip\n",
    "    def get_ip():\n",
    "        print(ip)\n",
    "class Router:\n",
    "    def link():\n",
    "        linked = 1\n",
    "        \n",
    "    def unlink():\n",
    "        linked = 0\n",
    "        \n",
    "    def send_data(self,data):\n",
    "        self.data=data\n",
    "    \n",
    "    def buffer(self,buf):\n",
    "        self.buf=buf\n",
    "        \n",
    "class Data:\n",
    "    def __init__(self,dat,ip):\n",
    "        self.dat = dat\n",
    "        self.ip = ip\n",
    "sv= Server('13')\n",
    "print(getattr(sv, 'ip'))"
   ]
  },
  {
   "cell_type": "code",
   "execution_count": null,
   "id": "b866f853",
   "metadata": {},
   "outputs": [],
   "source": []
  }
 ],
 "metadata": {
  "kernelspec": {
   "display_name": "Python 3 (ipykernel)",
   "language": "python",
   "name": "python3"
  },
  "language_info": {
   "codemirror_mode": {
    "name": "ipython",
    "version": 3
   },
   "file_extension": ".py",
   "mimetype": "text/x-python",
   "name": "python",
   "nbconvert_exporter": "python",
   "pygments_lexer": "ipython3",
   "version": "3.9.13"
  }
 },
 "nbformat": 4,
 "nbformat_minor": 5
}
