{
 "cells": [
  {
   "cell_type": "code",
   "execution_count": null,
   "id": "d70044d2",
   "metadata": {},
   "outputs": [],
   "source": [
    "def main():\n",
    "    a=[[1,2,3,4],[5,6,7,8],[9,10,11,12]]\n",
    "    n=len(a)\n",
    "    m=len(a[0])\n",
    "\n",
    "    for i in a:\n",
    "        for j in i:\n",
    "            print(j, end=' ')\n",
    "        print()\n",
    "    print()\n",
    "\n",
    "    x=y=0\n",
    "    dx=1\n",
    "    dy=0\n",
    "    lf=up=0\n",
    "    rg=m\n",
    "    dn=n\n",
    "    for i in range(1,n*m+1):\n",
    "        print(a[y][x],end=' ')\n",
    "        if x+dx<lf and dx==-1 or x+dx==rg and dx==1:\n",
    "            if x+dx==rg:\n",
    "                dy=1\n",
    "                rg-=1\n",
    "                up+=1\n",
    "            else:\n",
    "                dy=-1\n",
    "                lf+=1\n",
    "                dn-=1\n",
    "            dx=0\n",
    "        if y+dy<up and dy==-1 or y+dy==dn and dy==1:\n",
    "            dx=-1 if y+dy==dn else 1\n",
    "            dy=0\n",
    "        x+=dx\n",
    "        y+=dy\n",
    "    print()\n",
    "if __name__ == \"__main__\":\n",
    "    main()"
   ]
  }
 ],
 "metadata": {
  "kernelspec": {
   "display_name": "Python 3 (ipykernel)",
   "language": "python",
   "name": "python3"
  },
  "language_info": {
   "codemirror_mode": {
    "name": "ipython",
    "version": 3
   },
   "file_extension": ".py",
   "mimetype": "text/x-python",
   "name": "python",
   "nbconvert_exporter": "python",
   "pygments_lexer": "ipython3",
   "version": "3.9.13"
  }
 },
 "nbformat": 4,
 "nbformat_minor": 5
}
