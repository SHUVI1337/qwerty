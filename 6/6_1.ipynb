{
 "cells": [
  {
   "cell_type": "code",
   "execution_count": null,
   "id": "742ba4a1",
   "metadata": {},
   "outputs": [],
   "source": [
    "def main():\n",
    "    s = int(input(\" Введите колличество цифр в списке\"))\n",
    "    c = int(input(\"Цель\"))\n",
    "    a=[]\n",
    "    b=[]\n",
    "    g=1\n",
    "    for i in range(s):\n",
    "        print(\"Цифра номер\",g, \"в списке\")\n",
    "        a.append(int(input()))\n",
    "        g+=1\n",
    "    for i in range(len(a)):\n",
    "        for j in range(i+1, len(a)):\n",
    "            for k in range(j+1, len(a)):\n",
    "                for l in range(k+1, len(a)):\n",
    "                    z = [a[i],a[j],a[k],a[l]]\n",
    "                    b.append(z)\n",
    "    otv = []\n",
    "    for i in range(len(b)):\n",
    "        n=0\n",
    "        for j in range(len(b[i])):\n",
    "            n+=b[i][j]\n",
    "        otv.append(n)\n",
    "    otkl = 10\n",
    "    h = 0\n",
    "    for i in range(len(otv)):\n",
    "        if abs(c - otv[i]) < otkl:\n",
    "            otkl=abs(c - otv[i])\n",
    "            h = i\n",
    "    print(\"Нужные цифры\", b[h],\"Ближайшая сумма = \", otv[h])\n",
    "if __name__ == \"__main__\":\n",
    "    main()"
   ]
  }
 ],
 "metadata": {
  "kernelspec": {
   "display_name": "Python 3 (ipykernel)",
   "language": "python",
   "name": "python3"
  },
  "language_info": {
   "codemirror_mode": {
    "name": "ipython",
    "version": 3
   },
   "file_extension": ".py",
   "mimetype": "text/x-python",
   "name": "python",
   "nbconvert_exporter": "python",
   "pygments_lexer": "ipython3",
   "version": "3.9.13"
  }
 },
 "nbformat": 4,
 "nbformat_minor": 5
}
