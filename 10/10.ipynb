{
 "cells": [
  {
   "cell_type": "code",
   "execution_count": null,
   "id": "016a11d5",
   "metadata": {},
   "outputs": [],
   "source": [
    "import numpy as np\n",
    "from matplotlib import pyplot as plt\n",
    "from matplotlib.animation import FuncAnimation\n",
    "from matplotlib import style\n",
    "\n",
    "plt.style.use('dark_background')\n",
    "fig = plt.figure()\n",
    "ax = plt.axes(xlim=(0, 5), ylim=(-150, 100))\n",
    "line, = ax.plot([], [], lw=3)\n",
    "def init():\n",
    "    line.set_data([], [])\n",
    "    return line,\n",
    "def animate(i):\n",
    "    x = np.linspace(0, 4, 1000)\n",
    "    y = 10*x**2 * np.sin(x**2 + 5)\n",
    "    line.set_data(x, y)\n",
    "    return line,\n",
    "anim = FuncAnimation(\n",
    "    fig,\n",
    "    animate,\n",
    "    init_func=init,\n",
    "    frames=200,\n",
    "    interval=20,\n",
    "    blit=True)\n",
    "anim.save('sine_wave.gif', writer='imagemagick')"
   ]
  }
 ],
 "metadata": {
  "kernelspec": {
   "display_name": "Python 3 (ipykernel)",
   "language": "python",
   "name": "python3"
  },
  "language_info": {
   "codemirror_mode": {
    "name": "ipython",
    "version": 3
   },
   "file_extension": ".py",
   "mimetype": "text/x-python",
   "name": "python",
   "nbconvert_exporter": "python",
   "pygments_lexer": "ipython3",
   "version": "3.9.13"
  }
 },
 "nbformat": 4,
 "nbformat_minor": 5
}
