{
 "cells": [
  {
   "cell_type": "code",
   "execution_count": null,
   "id": "2ca7ed69",
   "metadata": {},
   "outputs": [],
   "source": [
    "def main(x,y):\n",
    "    global Stop\n",
    "    if x==0 or x==len(maze[y])-1 or y==0 or y==n-1:\n",
    "        print('x=',x,' y=',y,sep='')\n",
    "        Stop=True\n",
    "        return\n",
    "        \n",
    "    for i in range(4):\n",
    "        if Stop:\n",
    "            return\n",
    "        xi=x+dx[i]\n",
    "        yi=y+dy[i]\n",
    "        if xi>=0 and yi>=0 and yi<n :\n",
    "            m=len(maze[yi])\n",
    "            if xi<m and maze[yi][xi]==' ':\n",
    "                maze[y]=maze[y][:x]+'#'+maze[y][x+1:]\n",
    "                main(xi,yi)\n",
    "                maze[y]=maze[y][:x]+' '+maze[y][x+1:]\n",
    "if __name__ == \"__main__\":\n",
    "    maze = [\n",
    "        \"########\",\n",
    "        \"# # ####\",\n",
    "        \"# #N#   \",\n",
    "        \"# # # ##\",\n",
    "        \"# # # ##\",\n",
    "        \"# #     \",\n",
    "        \"########\"]\n",
    "\n",
    "    nN = 0\n",
    "    for y in range(len(maze)):\n",
    "        for x in range(len(maze[y])):\n",
    "            if maze[y][x] == 'N':\n",
    "                yN = y\n",
    "                xN = x\n",
    "                nN += 1\n",
    "    if nN == 0 or nN > 1:\n",
    "        print('Error, N =', nN)\n",
    "    else:\n",
    "        if xN == 0 or yN == 0:\n",
    "            print(True)\n",
    "        else:\n",
    "            dx = [-1, 0, 1, 0]\n",
    "            dy = [0, -1, 0, 1]\n",
    "            Stop = False\n",
    "            n = len(maze)\n",
    "            main(xN, yN)\n",
    "            print(Stop)"
   ]
  }
 ],
 "metadata": {
  "kernelspec": {
   "display_name": "Python 3 (ipykernel)",
   "language": "python",
   "name": "python3"
  },
  "language_info": {
   "codemirror_mode": {
    "name": "ipython",
    "version": 3
   },
   "file_extension": ".py",
   "mimetype": "text/x-python",
   "name": "python",
   "nbconvert_exporter": "python",
   "pygments_lexer": "ipython3",
   "version": "3.9.13"
  }
 },
 "nbformat": 4,
 "nbformat_minor": 5
}
