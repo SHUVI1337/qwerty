{
 "cells": [
  {
   "cell_type": "code",
   "execution_count": null,
   "id": "a1a205dc",
   "metadata": {},
   "outputs": [],
   "source": [
    "def main(list1,list2):\n",
    "    set1, set2 = set(list1), set(list2)\n",
    "    ans1 = list(set1.intersection(set2))\n",
    "    ans2 = list(set1.symmetric_difference(set2))\n",
    "    ans3 = list(set1.difference(set2))\n",
    "    ans4 = list(set2.difference(set1))\n",
    "    ans1=len(ans1)\n",
    "    ans2 = len(ans2)\n",
    "    ans3 = len(ans3)\n",
    "    ans4 = len(ans4)\n",
    "    return ans1,ans2,ans3,ans4\n",
    "if __name__ == \"__main__\":\n",
    "    list1, list2 = [0, 33, 37, 6, 10, 44, 13, 47, 16, 18, 22, 25], [1, 38, 48, 8, 41, 7, 12, 47, 16, 40, 20, 23, 25]\n",
    "    print(main(list1,list2))"
   ]
  }
 ],
 "metadata": {
  "kernelspec": {
   "display_name": "Python 3 (ipykernel)",
   "language": "python",
   "name": "python3"
  },
  "language_info": {
   "codemirror_mode": {
    "name": "ipython",
    "version": 3
   },
   "file_extension": ".py",
   "mimetype": "text/x-python",
   "name": "python",
   "nbconvert_exporter": "python",
   "pygments_lexer": "ipython3",
   "version": "3.9.13"
  }
 },
 "nbformat": 4,
 "nbformat_minor": 5
}
