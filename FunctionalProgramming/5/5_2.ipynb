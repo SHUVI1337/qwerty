{
 "cells": [
  {
   "cell_type": "code",
   "execution_count": null,
   "id": "f078239c",
   "metadata": {},
   "outputs": [],
   "source": [
    "def main():\n",
    "    a=input()\n",
    "    a=a.lower()\n",
    "    a=a.lstrip()\n",
    "    a = a.rstrip()\n",
    "    a=a.replace('    ', ' ')\n",
    "    a=a.replace('   ',' ')\n",
    "    a=a.replace('  ', ' ')\n",
    "    a=a+' '\n",
    "    s=''\n",
    "    w=''\n",
    "    for i in a:\n",
    "        if i!=' ':\n",
    "            w=w+i\n",
    "        else:\n",
    "            s=w+' '+s\n",
    "            w=''\n",
    "    if s=='':\n",
    "        print(w.capitalize())\n",
    "    s=s.capitalize()\n",
    "    print(s)\n",
    "if __name__=='__main__':\n",
    "    main()"
   ]
  }
 ],
 "metadata": {
  "kernelspec": {
   "display_name": "Python 3 (ipykernel)",
   "language": "python",
   "name": "python3"
  },
  "language_info": {
   "codemirror_mode": {
    "name": "ipython",
    "version": 3
   },
   "file_extension": ".py",
   "mimetype": "text/x-python",
   "name": "python",
   "nbconvert_exporter": "python",
   "pygments_lexer": "ipython3",
   "version": "3.9.13"
  }
 },
 "nbformat": 4,
 "nbformat_minor": 5
}
