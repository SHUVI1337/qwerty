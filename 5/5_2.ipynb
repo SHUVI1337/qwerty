{
 "cells": [
  {
   "cell_type": "code",
   "execution_count": 1,
   "id": "3b884c7f",
   "metadata": {},
   "outputs": [
    {
     "name": "stdout",
     "output_type": "stream",
     "text": [
      "123\n",
      "\n"
     ]
    }
   ],
   "source": [
    "\n",
    "def main():\n",
    "    a=input()\n",
    "    a=a.lower()\n",
    "    a=a.lstrip()\n",
    "    a = a.rstrip()\n",
    "    a=a.replace('    ', ' ')\n",
    "    a=a.replace('   ',' ')\n",
    "    a=a.replace('  ', ' ')\n",
    "    a=a+' '\n",
    "    s=''\n",
    "    w=''\n",
    "    for i in a:\n",
    "        if i!=' ':\n",
    "            w=w+i\n",
    "        else:\n",
    "            s=w+' '+s\n",
    "            w=''\n",
    "    if s=='':\n",
    "        print(w.capitalize())\n",
    "    s=s.capitalize()\n",
    "    print(s)\n",
    "if __name__=='__main__':\n",
    "    main()"
   ]
  },
  {
   "cell_type": "code",
   "execution_count": null,
   "id": "a44a6fa2",
   "metadata": {},
   "outputs": [],
   "source": []
  },
  {
   "cell_type": "code",
   "execution_count": null,
   "id": "af3ddd80",
   "metadata": {},
   "outputs": [],
   "source": []
  }
 ],
 "metadata": {
  "kernelspec": {
   "display_name": "Python 3 (ipykernel)",
   "language": "python",
   "name": "python3"
  },
  "language_info": {
   "codemirror_mode": {
    "name": "ipython",
    "version": 3
   },
   "file_extension": ".py",
   "mimetype": "text/x-python",
   "name": "python",
   "nbconvert_exporter": "python",
   "pygments_lexer": "ipython3",
   "version": "3.9.13"
  }
 },
 "nbformat": 4,
 "nbformat_minor": 5
}
