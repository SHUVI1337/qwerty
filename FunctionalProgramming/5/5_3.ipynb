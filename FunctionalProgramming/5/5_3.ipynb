{
 "cells": [
  {
   "cell_type": "code",
   "execution_count": null,
   "id": "70858fca",
   "metadata": {},
   "outputs": [],
   "source": [
    "def main(st):\n",
    "    s=st\n",
    "    p='()[]{}'\n",
    "    while True:\n",
    "        was=False\n",
    "        for i in range(1,7,2):\n",
    "            ps=s.find(p[i])\n",
    "            if ps>0 and s[ps-1]==p[i-1]:\n",
    "                s=s[:ps]+s[ps+1:]\n",
    "                s=s[:ps-1]+s[ps:]\n",
    "                if s=='':\n",
    "                    return [True,st]\n",
    "                was=True\n",
    "        if not was:\n",
    "            return [False,'']\n",
    "    if i==5:\n",
    "        return [False,'']\n",
    "if __name__ == \"__main__\":\n",
    "    st = input(\"String: \")\n",
    "    res = main(st)\n",
    "    if res[0]:\n",
    "        print(True)\n",
    "    else:\n",
    "        res = [False, '']\n",
    "        for i in range(len(st) - 1):\n",
    "            for j in range(len(st) - 1, i + 1, -1):\n",
    "                s = st[i:j:]\n",
    "                if len(s) % 2 == 0:\n",
    "                    r = main(s)\n",
    "                    if r[0] and len(r[1]) > len(res[1]):\n",
    "                        res = [True, s]\n",
    "        if res[0]:\n",
    "            print(res[1])\n",
    "        else:\n",
    "            print(False)\n"
   ]
  }
 ],
 "metadata": {
  "kernelspec": {
   "display_name": "Python 3 (ipykernel)",
   "language": "python",
   "name": "python3"
  },
  "language_info": {
   "codemirror_mode": {
    "name": "ipython",
    "version": 3
   },
   "file_extension": ".py",
   "mimetype": "text/x-python",
   "name": "python",
   "nbconvert_exporter": "python",
   "pygments_lexer": "ipython3",
   "version": "3.9.13"
  }
 },
 "nbformat": 4,
 "nbformat_minor": 5
}
