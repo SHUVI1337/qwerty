{
 "cells": [
  {
   "cell_type": "code",
   "execution_count": null,
   "id": "c5dd49d6",
   "metadata": {},
   "outputs": [],
   "source": [
    "def main(a,b):\n",
    "    list1=set(a)\n",
    "    list2=set(b)\n",
    "    list3=set()\n",
    "    list3=list1.intersection(list2)\n",
    "    a1=len(list3)\n",
    "    \n",
    "    list4=set()\n",
    "    list4=list1.difference(list2)\n",
    "    list5=set()\n",
    "    list5=list2.difference(list1)\n",
    "    a2=len(list4)+len(list5)\n",
    "    \n",
    "    list1.difference_update(list2)\n",
    "    a3=len(list1)\n",
    "    \n",
    "    list1=set(a)\n",
    "    list2=set(b)\n",
    "    list2.difference_update(list1)\n",
    "    a4=len(list2)\n",
    "    return a1,a2,a3,a4\n",
    "if __name__=='__main__':\n",
    "    a,b=[(0, 33, 37, 6, 10, 44, 13, 47, 16, 18, 22, 25),(1, 38, 48, 8, 41, 7, 12, 47, 16, 40, 20, 23, 25)]\n",
    "    print(main(a,b))"
   ]
  }
 ],
 "metadata": {
  "kernelspec": {
   "display_name": "Python 3 (ipykernel)",
   "language": "python",
   "name": "python3"
  },
  "language_info": {
   "codemirror_mode": {
    "name": "ipython",
    "version": 3
   },
   "file_extension": ".py",
   "mimetype": "text/x-python",
   "name": "python",
   "nbconvert_exporter": "python",
   "pygments_lexer": "ipython3",
   "version": "3.9.13"
  }
 },
 "nbformat": 4,
 "nbformat_minor": 5
}
