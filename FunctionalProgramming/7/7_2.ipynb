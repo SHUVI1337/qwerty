{
 "cells": [
  {
   "cell_type": "code",
   "execution_count": null,
   "id": "17d920ef",
   "metadata": {},
   "outputs": [],
   "source": [
    "def main():\n",
    "    m = [[1, 2, 3, 4],\n",
    "         [5, 6, 7, 8],\n",
    "         [9, 10, 11, 12],\n",
    "         [13, 14, 15, 16]]\n",
    "    print(*m, sep=\"\\n\")\n",
    "    for i in range(len(m)):\n",
    "        for j in range(i, len(m[i])):\n",
    "            m[i][j], m[j][i] = m[j][i], m[i][j]\n",
    "    for j in range(len(m)):\n",
    "        m[j] = m[j][::-1]\n",
    "    print(' ', *m, sep=\"\\n\")\n",
    "if __name__ == \"__main__\":\n",
    "    main()"
   ]
  }
 ],
 "metadata": {
  "kernelspec": {
   "display_name": "Python 3 (ipykernel)",
   "language": "python",
   "name": "python3"
  },
  "language_info": {
   "codemirror_mode": {
    "name": "ipython",
    "version": 3
   },
   "file_extension": ".py",
   "mimetype": "text/x-python",
   "name": "python",
   "nbconvert_exporter": "python",
   "pygments_lexer": "ipython3",
   "version": "3.9.13"
  }
 },
 "nbformat": 4,
 "nbformat_minor": 5
}
