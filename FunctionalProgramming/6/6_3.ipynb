{
 "cells": [
  {
   "cell_type": "code",
   "execution_count": null,
   "id": "2047ac70",
   "metadata": {},
   "outputs": [],
   "source": [
    "from itertools import *\n",
    "\n",
    "def main():\n",
    "    print('Введите элементы списка через запятые')\n",
    "    a = input()\n",
    "    a = str(a)\n",
    "    a = a.replace(\" \", \"\")\n",
    "    a = a.split(\",\")\n",
    "    b = {str(sorted(a[0])): [a[0]]}\n",
    "    s =''\n",
    "    for k in range(1, len(a)):\n",
    "        s = str(sorted(a[k]))\n",
    "        if s in b:\n",
    "            o = sorted(a[k])\n",
    "            b[str(o)].append(a[k])\n",
    "        else:\n",
    "            o = sorted(a[k])\n",
    "            b[str(o)] = [a[k]]\n",
    "    print(b.values())\n",
    "if __name__ == \"__main__\":\n",
    "    main()"
   ]
  }
 ],
 "metadata": {
  "kernelspec": {
   "display_name": "Python 3 (ipykernel)",
   "language": "python",
   "name": "python3"
  },
  "language_info": {
   "codemirror_mode": {
    "name": "ipython",
    "version": 3
   },
   "file_extension": ".py",
   "mimetype": "text/x-python",
   "name": "python",
   "nbconvert_exporter": "python",
   "pygments_lexer": "ipython3",
   "version": "3.9.13"
  }
 },
 "nbformat": 4,
 "nbformat_minor": 5
}
