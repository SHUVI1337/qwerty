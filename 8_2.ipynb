{
 "cells": [
  {
   "cell_type": "code",
   "execution_count": null,
   "id": "4ae8b638",
   "metadata": {},
   "outputs": [],
   "source": [
    "from itertools import *\n",
    "def main(list1):\n",
    "    list2=set()\n",
    "    for i in list1:\n",
    "        if i not in list2:\n",
    "            list2.add(i)\n",
    "    q=list()\n",
    "    for l in range(1,10):\n",
    "        q.extend(sorted(list(sorted(combinations(list2,l)))))\n",
    "    print('множества', q)\n",
    "    print('колличество',len(q))\n",
    "if __name__=='__main__':\n",
    "    list1= [\"a\", \"b\", \"c\", \"d\", \"d\"]\n",
    "    main(list1)"
   ]
  }
 ],
 "metadata": {
  "kernelspec": {
   "display_name": "Python 3 (ipykernel)",
   "language": "python",
   "name": "python3"
  },
  "language_info": {
   "codemirror_mode": {
    "name": "ipython",
    "version": 3
   },
   "file_extension": ".py",
   "mimetype": "text/x-python",
   "name": "python",
   "nbconvert_exporter": "python",
   "pygments_lexer": "ipython3",
   "version": "3.9.13"
  }
 },
 "nbformat": 4,
 "nbformat_minor": 5
}
