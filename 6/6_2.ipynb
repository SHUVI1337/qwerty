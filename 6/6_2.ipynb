{
 "cells": [
  {
   "cell_type": "code",
   "execution_count": null,
   "id": "4e6a235d",
   "metadata": {},
   "outputs": [],
   "source": [
    "from itertools import *\n",
    "def main():\n",
    "    s=input()\n",
    "    s=s.strip()\n",
    "    s=s.replace('[','')\n",
    "    s=s.replace(',', '')\n",
    "    s=s.replace(']', '')\n",
    "    s = s.replace(' ', '')\n",
    "    b = list(s)\n",
    "    c = list(permutations(b, len(s)))\n",
    "    z = []\n",
    "    for i in range(len(s)):\n",
    "        c1 = list(c[i])\n",
    "        z.append(c1)\n",
    "    print(z)\n",
    "if __name__ == \"__main__\":\n",
    "    main()"
   ]
  }
 ],
 "metadata": {
  "kernelspec": {
   "display_name": "Python 3 (ipykernel)",
   "language": "python",
   "name": "python3"
  },
  "language_info": {
   "codemirror_mode": {
    "name": "ipython",
    "version": 3
   },
   "file_extension": ".py",
   "mimetype": "text/x-python",
   "name": "python",
   "nbconvert_exporter": "python",
   "pygments_lexer": "ipython3",
   "version": "3.9.13"
  }
 },
 "nbformat": 4,
 "nbformat_minor": 5
}
