{
 "cells": [
  {
   "cell_type": "code",
   "execution_count": null,
   "id": "f078239c",
   "metadata": {},
   "outputs": [],
   "source": [
    "def main():\n",
    "    l=''\n",
    "    s=''\n",
    "    a=input()\n",
    "    b=1\n",
    "    m=0\n",
    "    for i in range(len(a)):\n",
    "        if a[i] in s:\n",
    "            m=max(m,len(s))\n",
    "            if len(a)>len(l):\n",
    "                l=s\n",
    "            s=''\n",
    "        s = s + str(a[i])\n",
    "    print(l)\n",
    "if __name__=='__main__':\n",
    "    main()"
   ]
  }
 ],
 "metadata": {
  "kernelspec": {
   "display_name": "Python 3 (ipykernel)",
   "language": "python",
   "name": "python3"
  },
  "language_info": {
   "codemirror_mode": {
    "name": "ipython",
    "version": 3
   },
   "file_extension": ".py",
   "mimetype": "text/x-python",
   "name": "python",
   "nbconvert_exporter": "python",
   "pygments_lexer": "ipython3",
   "version": "3.9.13"
  }
 },
 "nbformat": 4,
 "nbformat_minor": 5
}
