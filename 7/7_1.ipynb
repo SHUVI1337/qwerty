{
 "cells": [
  {
   "cell_type": "code",
   "execution_count": null,
   "id": "c3360dd2",
   "metadata": {},
   "outputs": [],
   "source": [
    "def main():\n",
    "    kol = int(input('колличество банков'))\n",
    "    banki = []\n",
    "    safe = []\n",
    "    for i in range(kol):\n",
    "        naz = str(input('bank'))\n",
    "        bank = [naz]\n",
    "        dengi = str(input('dengi'))\n",
    "        safe.append(dengi)\n",
    "        bank.append(dengi)\n",
    "        banki.append(bank)\n",
    "    if len(safe) > 3:\n",
    "        m=0\n",
    "        s = 0\n",
    "        for i in range(0, len(safe), 2):\n",
    "            s += int(safe[i])\n",
    "        m = max(m, s)\n",
    "        s = 0\n",
    "        for i in range(1, len(safe), 2):\n",
    "            s += int(safe[i])\n",
    "        m = max(m, s)\n",
    "        print(m)\n",
    "    if len(safe) == 2:\n",
    "        if safe[0] > safe[1]:\n",
    "            print(safe[0])\n",
    "        else:\n",
    "            print(safe[1])\n",
    "    if len(safe) == 3:\n",
    "        if (safe[0] + safe[2]) > safe[1]:\n",
    "            print(safe[0] + safe[2])\n",
    "        else:\n",
    "            print(safe[1])\n",
    "    if len(safe) == 1:\n",
    "        print(safe[0])\n",
    "if __name__ == \"__main__\":\n",
    "    main()"
   ]
  }
 ],
 "metadata": {
  "kernelspec": {
   "display_name": "Python 3 (ipykernel)",
   "language": "python",
   "name": "python3"
  },
  "language_info": {
   "codemirror_mode": {
    "name": "ipython",
    "version": 3
   },
   "file_extension": ".py",
   "mimetype": "text/x-python",
   "name": "python",
   "nbconvert_exporter": "python",
   "pygments_lexer": "ipython3",
   "version": "3.9.13"
  }
 },
 "nbformat": 4,
 "nbformat_minor": 5
}
